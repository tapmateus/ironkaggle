{
 "cells": [
  {
   "cell_type": "markdown",
   "id": "8f9f1a46",
   "metadata": {},
   "source": [
    "# Importing Libraries and DB"
   ]
  },
  {
   "cell_type": "code",
   "execution_count": 1,
   "id": "c8211dab",
   "metadata": {},
   "outputs": [],
   "source": [
    "# for dataset manipulation and cleaning\n",
    "import pandas as pd\n",
    "\n",
    "# seting, fiting, training, testing models\n",
    "from sklearn.model_selection import train_test_split\n",
    "from sklearn.preprocessing import MinMaxScaler\n",
    "from sklearn.metrics import mean_squared_error\n",
    "from sklearn.ensemble import RandomForestRegressor\n",
    "import xgboost\n",
    "import pickle\n",
    "\n",
    "#visual analization of variables and correlations\n",
    "import matplotlib.pyplot as plt\n",
    "import seaborn as sn"
   ]
  },
  {
   "cell_type": "code",
   "execution_count": 2,
   "id": "0430cb26",
   "metadata": {},
   "outputs": [
    {
     "data": {
      "text/html": [
       "<div>\n",
       "<style scoped>\n",
       "    .dataframe tbody tr th:only-of-type {\n",
       "        vertical-align: middle;\n",
       "    }\n",
       "\n",
       "    .dataframe tbody tr th {\n",
       "        vertical-align: top;\n",
       "    }\n",
       "\n",
       "    .dataframe thead th {\n",
       "        text-align: right;\n",
       "    }\n",
       "</style>\n",
       "<table border=\"1\" class=\"dataframe\">\n",
       "  <thead>\n",
       "    <tr style=\"text-align: right;\">\n",
       "      <th></th>\n",
       "      <th>True_index</th>\n",
       "      <th>Store_ID</th>\n",
       "      <th>Day_of_week</th>\n",
       "      <th>Date</th>\n",
       "      <th>Nb_customers_on_day</th>\n",
       "      <th>Open</th>\n",
       "      <th>Promotion</th>\n",
       "      <th>State_holiday</th>\n",
       "      <th>School_holiday</th>\n",
       "      <th>Sales</th>\n",
       "    </tr>\n",
       "  </thead>\n",
       "  <tbody>\n",
       "    <tr>\n",
       "      <th>0</th>\n",
       "      <td>0</td>\n",
       "      <td>625</td>\n",
       "      <td>3</td>\n",
       "      <td>2013-11-06</td>\n",
       "      <td>641</td>\n",
       "      <td>1</td>\n",
       "      <td>1</td>\n",
       "      <td>0</td>\n",
       "      <td>0</td>\n",
       "      <td>7293</td>\n",
       "    </tr>\n",
       "    <tr>\n",
       "      <th>1</th>\n",
       "      <td>1</td>\n",
       "      <td>293</td>\n",
       "      <td>2</td>\n",
       "      <td>2013-07-16</td>\n",
       "      <td>877</td>\n",
       "      <td>1</td>\n",
       "      <td>1</td>\n",
       "      <td>0</td>\n",
       "      <td>1</td>\n",
       "      <td>7060</td>\n",
       "    </tr>\n",
       "    <tr>\n",
       "      <th>2</th>\n",
       "      <td>2</td>\n",
       "      <td>39</td>\n",
       "      <td>4</td>\n",
       "      <td>2014-01-23</td>\n",
       "      <td>561</td>\n",
       "      <td>1</td>\n",
       "      <td>1</td>\n",
       "      <td>0</td>\n",
       "      <td>0</td>\n",
       "      <td>4565</td>\n",
       "    </tr>\n",
       "    <tr>\n",
       "      <th>3</th>\n",
       "      <td>3</td>\n",
       "      <td>676</td>\n",
       "      <td>4</td>\n",
       "      <td>2013-09-26</td>\n",
       "      <td>1584</td>\n",
       "      <td>1</td>\n",
       "      <td>1</td>\n",
       "      <td>0</td>\n",
       "      <td>0</td>\n",
       "      <td>6380</td>\n",
       "    </tr>\n",
       "    <tr>\n",
       "      <th>4</th>\n",
       "      <td>4</td>\n",
       "      <td>709</td>\n",
       "      <td>3</td>\n",
       "      <td>2014-01-22</td>\n",
       "      <td>1477</td>\n",
       "      <td>1</td>\n",
       "      <td>1</td>\n",
       "      <td>0</td>\n",
       "      <td>0</td>\n",
       "      <td>11647</td>\n",
       "    </tr>\n",
       "  </tbody>\n",
       "</table>\n",
       "</div>"
      ],
      "text/plain": [
       "   True_index  Store_ID  Day_of_week        Date  Nb_customers_on_day  Open  \\\n",
       "0           0       625            3  2013-11-06                  641     1   \n",
       "1           1       293            2  2013-07-16                  877     1   \n",
       "2           2        39            4  2014-01-23                  561     1   \n",
       "3           3       676            4  2013-09-26                 1584     1   \n",
       "4           4       709            3  2014-01-22                 1477     1   \n",
       "\n",
       "   Promotion State_holiday  School_holiday  Sales  \n",
       "0          1             0               0   7293  \n",
       "1          1             0               1   7060  \n",
       "2          1             0               0   4565  \n",
       "3          1             0               0   6380  \n",
       "4          1             0               0  11647  "
      ]
     },
     "execution_count": 2,
     "metadata": {},
     "output_type": "execute_result"
    }
   ],
   "source": [
    "# db first impression\n",
    "\n",
    "sales = pd.read_csv('Sales.csv')\n",
    "sales.head()"
   ]
  },
  {
   "cell_type": "markdown",
   "id": "686c30b5",
   "metadata": {},
   "source": [
    "# Data Cleaning and Formatting"
   ]
  },
  {
   "cell_type": "code",
   "execution_count": 3,
   "id": "a3d80ae3",
   "metadata": {},
   "outputs": [
    {
     "data": {
      "text/plain": [
       "True_index              int64\n",
       "Store_ID                int64\n",
       "Day_of_week             int64\n",
       "Date                   object\n",
       "Nb_customers_on_day     int64\n",
       "Open                    int64\n",
       "Promotion               int64\n",
       "State_holiday          object\n",
       "School_holiday          int64\n",
       "Sales                   int64\n",
       "dtype: object"
      ]
     },
     "execution_count": 3,
     "metadata": {},
     "output_type": "execute_result"
    }
   ],
   "source": [
    "# check df types\n",
    "sales.dtypes"
   ]
  },
  {
   "cell_type": "code",
   "execution_count": 4,
   "id": "f8778bf1",
   "metadata": {},
   "outputs": [],
   "source": [
    "# creating separate columns to the 'date' column and then dropping it\n",
    "\n",
    "sales[['Year', 'Month', 'Day']] = sales['Date'].str.split('-', expand=True)\n",
    "\n",
    "sales.drop(['Date'], axis = 1, inplace = True)"
   ]
  },
  {
   "cell_type": "code",
   "execution_count": 5,
   "id": "6fd550f8",
   "metadata": {},
   "outputs": [
    {
     "data": {
      "text/html": [
       "<div>\n",
       "<style scoped>\n",
       "    .dataframe tbody tr th:only-of-type {\n",
       "        vertical-align: middle;\n",
       "    }\n",
       "\n",
       "    .dataframe tbody tr th {\n",
       "        vertical-align: top;\n",
       "    }\n",
       "\n",
       "    .dataframe thead th {\n",
       "        text-align: right;\n",
       "    }\n",
       "</style>\n",
       "<table border=\"1\" class=\"dataframe\">\n",
       "  <thead>\n",
       "    <tr style=\"text-align: right;\">\n",
       "      <th></th>\n",
       "      <th>True_index</th>\n",
       "      <th>Store_ID</th>\n",
       "      <th>Day_of_week</th>\n",
       "      <th>Nb_customers_on_day</th>\n",
       "      <th>Open</th>\n",
       "      <th>Promotion</th>\n",
       "      <th>School_holiday</th>\n",
       "      <th>Sales</th>\n",
       "      <th>Year</th>\n",
       "      <th>Month</th>\n",
       "      <th>Day</th>\n",
       "      <th>State_holiday_0</th>\n",
       "      <th>State_holiday_a</th>\n",
       "      <th>State_holiday_b</th>\n",
       "      <th>State_holiday_c</th>\n",
       "    </tr>\n",
       "  </thead>\n",
       "  <tbody>\n",
       "    <tr>\n",
       "      <th>0</th>\n",
       "      <td>0</td>\n",
       "      <td>625</td>\n",
       "      <td>3</td>\n",
       "      <td>641</td>\n",
       "      <td>1</td>\n",
       "      <td>1</td>\n",
       "      <td>0</td>\n",
       "      <td>7293</td>\n",
       "      <td>2013</td>\n",
       "      <td>11</td>\n",
       "      <td>06</td>\n",
       "      <td>1</td>\n",
       "      <td>0</td>\n",
       "      <td>0</td>\n",
       "      <td>0</td>\n",
       "    </tr>\n",
       "    <tr>\n",
       "      <th>1</th>\n",
       "      <td>1</td>\n",
       "      <td>293</td>\n",
       "      <td>2</td>\n",
       "      <td>877</td>\n",
       "      <td>1</td>\n",
       "      <td>1</td>\n",
       "      <td>1</td>\n",
       "      <td>7060</td>\n",
       "      <td>2013</td>\n",
       "      <td>07</td>\n",
       "      <td>16</td>\n",
       "      <td>1</td>\n",
       "      <td>0</td>\n",
       "      <td>0</td>\n",
       "      <td>0</td>\n",
       "    </tr>\n",
       "    <tr>\n",
       "      <th>2</th>\n",
       "      <td>2</td>\n",
       "      <td>39</td>\n",
       "      <td>4</td>\n",
       "      <td>561</td>\n",
       "      <td>1</td>\n",
       "      <td>1</td>\n",
       "      <td>0</td>\n",
       "      <td>4565</td>\n",
       "      <td>2014</td>\n",
       "      <td>01</td>\n",
       "      <td>23</td>\n",
       "      <td>1</td>\n",
       "      <td>0</td>\n",
       "      <td>0</td>\n",
       "      <td>0</td>\n",
       "    </tr>\n",
       "    <tr>\n",
       "      <th>3</th>\n",
       "      <td>3</td>\n",
       "      <td>676</td>\n",
       "      <td>4</td>\n",
       "      <td>1584</td>\n",
       "      <td>1</td>\n",
       "      <td>1</td>\n",
       "      <td>0</td>\n",
       "      <td>6380</td>\n",
       "      <td>2013</td>\n",
       "      <td>09</td>\n",
       "      <td>26</td>\n",
       "      <td>1</td>\n",
       "      <td>0</td>\n",
       "      <td>0</td>\n",
       "      <td>0</td>\n",
       "    </tr>\n",
       "    <tr>\n",
       "      <th>4</th>\n",
       "      <td>4</td>\n",
       "      <td>709</td>\n",
       "      <td>3</td>\n",
       "      <td>1477</td>\n",
       "      <td>1</td>\n",
       "      <td>1</td>\n",
       "      <td>0</td>\n",
       "      <td>11647</td>\n",
       "      <td>2014</td>\n",
       "      <td>01</td>\n",
       "      <td>22</td>\n",
       "      <td>1</td>\n",
       "      <td>0</td>\n",
       "      <td>0</td>\n",
       "      <td>0</td>\n",
       "    </tr>\n",
       "  </tbody>\n",
       "</table>\n",
       "</div>"
      ],
      "text/plain": [
       "   True_index  Store_ID  Day_of_week  Nb_customers_on_day  Open  Promotion  \\\n",
       "0           0       625            3                  641     1          1   \n",
       "1           1       293            2                  877     1          1   \n",
       "2           2        39            4                  561     1          1   \n",
       "3           3       676            4                 1584     1          1   \n",
       "4           4       709            3                 1477     1          1   \n",
       "\n",
       "   School_holiday  Sales  Year Month Day  State_holiday_0  State_holiday_a  \\\n",
       "0               0   7293  2013    11  06                1                0   \n",
       "1               1   7060  2013    07  16                1                0   \n",
       "2               0   4565  2014    01  23                1                0   \n",
       "3               0   6380  2013    09  26                1                0   \n",
       "4               0  11647  2014    01  22                1                0   \n",
       "\n",
       "   State_holiday_b  State_holiday_c  \n",
       "0                0                0  \n",
       "1                0                0  \n",
       "2                0                0  \n",
       "3                0                0  \n",
       "4                0                0  "
      ]
     },
     "execution_count": 5,
     "metadata": {},
     "output_type": "execute_result"
    }
   ],
   "source": [
    "# also, column 'State_holiday' has 3 different holidays than may impact the sales somehow, depending, for example\n",
    "# seasons, promotions, introductions of new products. won't do dummies for weekdays or sepecific month days because\n",
    "# even though that may have some impact, that i agree, i don't believe that will make much of difference comapring\n",
    "# to state holidays. of course, doing it this would safeguard that possibility but i opted not\n",
    "\n",
    "dummy_variables = pd.get_dummies(sales['State_holiday'], prefix='State_holiday')\n",
    "dummy_variables = dummy_variables.astype(int)\n",
    "sales = pd.concat([sales, dummy_variables], axis=1)\n",
    "sales.drop(['State_holiday'],axis = 1, inplace = True)\n",
    "sales.head()"
   ]
  },
  {
   "cell_type": "code",
   "execution_count": 6,
   "id": "157915a0",
   "metadata": {},
   "outputs": [
    {
     "data": {
      "text/plain": [
       "True_index              int64\n",
       "Store_ID                int64\n",
       "Day_of_week             int64\n",
       "Nb_customers_on_day     int64\n",
       "Open                    int64\n",
       "Promotion               int64\n",
       "School_holiday          int64\n",
       "Sales                   int64\n",
       "Year                   object\n",
       "Month                  object\n",
       "Day                    object\n",
       "State_holiday_0         int64\n",
       "State_holiday_a         int64\n",
       "State_holiday_b         int64\n",
       "State_holiday_c         int64\n",
       "dtype: object"
      ]
     },
     "execution_count": 6,
     "metadata": {},
     "output_type": "execute_result"
    }
   ],
   "source": [
    "#rechecking\n",
    "sales.dtypes"
   ]
  },
  {
   "cell_type": "code",
   "execution_count": 7,
   "id": "e7431606",
   "metadata": {},
   "outputs": [
    {
     "data": {
      "text/html": [
       "<div>\n",
       "<style scoped>\n",
       "    .dataframe tbody tr th:only-of-type {\n",
       "        vertical-align: middle;\n",
       "    }\n",
       "\n",
       "    .dataframe tbody tr th {\n",
       "        vertical-align: top;\n",
       "    }\n",
       "\n",
       "    .dataframe thead th {\n",
       "        text-align: right;\n",
       "    }\n",
       "</style>\n",
       "<table border=\"1\" class=\"dataframe\">\n",
       "  <thead>\n",
       "    <tr style=\"text-align: right;\">\n",
       "      <th></th>\n",
       "      <th>Store_ID</th>\n",
       "      <th>Day_of_week</th>\n",
       "      <th>Nb_customers_on_day</th>\n",
       "      <th>Open</th>\n",
       "      <th>Promotion</th>\n",
       "      <th>School_holiday</th>\n",
       "      <th>Sales</th>\n",
       "      <th>Year</th>\n",
       "      <th>Month</th>\n",
       "      <th>Day</th>\n",
       "      <th>State_holiday_0</th>\n",
       "      <th>State_holiday_a</th>\n",
       "      <th>State_holiday_b</th>\n",
       "      <th>State_holiday_c</th>\n",
       "    </tr>\n",
       "  </thead>\n",
       "  <tbody>\n",
       "    <tr>\n",
       "      <th>0</th>\n",
       "      <td>625</td>\n",
       "      <td>3</td>\n",
       "      <td>641</td>\n",
       "      <td>1</td>\n",
       "      <td>1</td>\n",
       "      <td>0</td>\n",
       "      <td>7293</td>\n",
       "      <td>2013</td>\n",
       "      <td>11</td>\n",
       "      <td>06</td>\n",
       "      <td>1</td>\n",
       "      <td>0</td>\n",
       "      <td>0</td>\n",
       "      <td>0</td>\n",
       "    </tr>\n",
       "    <tr>\n",
       "      <th>1</th>\n",
       "      <td>293</td>\n",
       "      <td>2</td>\n",
       "      <td>877</td>\n",
       "      <td>1</td>\n",
       "      <td>1</td>\n",
       "      <td>1</td>\n",
       "      <td>7060</td>\n",
       "      <td>2013</td>\n",
       "      <td>07</td>\n",
       "      <td>16</td>\n",
       "      <td>1</td>\n",
       "      <td>0</td>\n",
       "      <td>0</td>\n",
       "      <td>0</td>\n",
       "    </tr>\n",
       "    <tr>\n",
       "      <th>2</th>\n",
       "      <td>39</td>\n",
       "      <td>4</td>\n",
       "      <td>561</td>\n",
       "      <td>1</td>\n",
       "      <td>1</td>\n",
       "      <td>0</td>\n",
       "      <td>4565</td>\n",
       "      <td>2014</td>\n",
       "      <td>01</td>\n",
       "      <td>23</td>\n",
       "      <td>1</td>\n",
       "      <td>0</td>\n",
       "      <td>0</td>\n",
       "      <td>0</td>\n",
       "    </tr>\n",
       "    <tr>\n",
       "      <th>3</th>\n",
       "      <td>676</td>\n",
       "      <td>4</td>\n",
       "      <td>1584</td>\n",
       "      <td>1</td>\n",
       "      <td>1</td>\n",
       "      <td>0</td>\n",
       "      <td>6380</td>\n",
       "      <td>2013</td>\n",
       "      <td>09</td>\n",
       "      <td>26</td>\n",
       "      <td>1</td>\n",
       "      <td>0</td>\n",
       "      <td>0</td>\n",
       "      <td>0</td>\n",
       "    </tr>\n",
       "    <tr>\n",
       "      <th>4</th>\n",
       "      <td>709</td>\n",
       "      <td>3</td>\n",
       "      <td>1477</td>\n",
       "      <td>1</td>\n",
       "      <td>1</td>\n",
       "      <td>0</td>\n",
       "      <td>11647</td>\n",
       "      <td>2014</td>\n",
       "      <td>01</td>\n",
       "      <td>22</td>\n",
       "      <td>1</td>\n",
       "      <td>0</td>\n",
       "      <td>0</td>\n",
       "      <td>0</td>\n",
       "    </tr>\n",
       "  </tbody>\n",
       "</table>\n",
       "</div>"
      ],
      "text/plain": [
       "   Store_ID  Day_of_week  Nb_customers_on_day  Open  Promotion  \\\n",
       "0       625            3                  641     1          1   \n",
       "1       293            2                  877     1          1   \n",
       "2        39            4                  561     1          1   \n",
       "3       676            4                 1584     1          1   \n",
       "4       709            3                 1477     1          1   \n",
       "\n",
       "   School_holiday  Sales  Year Month Day  State_holiday_0  State_holiday_a  \\\n",
       "0               0   7293  2013    11  06                1                0   \n",
       "1               1   7060  2013    07  16                1                0   \n",
       "2               0   4565  2014    01  23                1                0   \n",
       "3               0   6380  2013    09  26                1                0   \n",
       "4               0  11647  2014    01  22                1                0   \n",
       "\n",
       "   State_holiday_b  State_holiday_c  \n",
       "0                0                0  \n",
       "1                0                0  \n",
       "2                0                0  \n",
       "3                0                0  \n",
       "4                0                0  "
      ]
     },
     "execution_count": 7,
     "metadata": {},
     "output_type": "execute_result"
    }
   ],
   "source": [
    "# true index doesn't not correspond to the actual value of the row and\n",
    "# doesnt have any relevant value to use later we'll drop it\n",
    "\n",
    "sales.drop(['True_index'], axis = 1, inplace = True)\n",
    "\n",
    "sales.head()"
   ]
  },
  {
   "cell_type": "code",
   "execution_count": 8,
   "id": "7fce445f",
   "metadata": {},
   "outputs": [
    {
     "data": {
      "text/plain": [
       "Store_ID               0\n",
       "Day_of_week            0\n",
       "Nb_customers_on_day    0\n",
       "Open                   0\n",
       "Promotion              0\n",
       "School_holiday         0\n",
       "Sales                  0\n",
       "Year                   0\n",
       "Month                  0\n",
       "Day                    0\n",
       "State_holiday_0        0\n",
       "State_holiday_a        0\n",
       "State_holiday_b        0\n",
       "State_holiday_c        0\n",
       "dtype: int64"
      ]
     },
     "execution_count": 8,
     "metadata": {},
     "output_type": "execute_result"
    }
   ],
   "source": [
    "#check the nulls\n",
    "sales.isnull().sum()"
   ]
  },
  {
   "cell_type": "code",
   "execution_count": 9,
   "id": "8c3e298f-10ee-49bd-bdac-fe5d6be7ef54",
   "metadata": {
    "scrolled": true
   },
   "outputs": [
    {
     "data": {
      "text/html": [
       "<div>\n",
       "<style scoped>\n",
       "    .dataframe tbody tr th:only-of-type {\n",
       "        vertical-align: middle;\n",
       "    }\n",
       "\n",
       "    .dataframe tbody tr th {\n",
       "        vertical-align: top;\n",
       "    }\n",
       "\n",
       "    .dataframe thead th {\n",
       "        text-align: right;\n",
       "    }\n",
       "</style>\n",
       "<table border=\"1\" class=\"dataframe\">\n",
       "  <thead>\n",
       "    <tr style=\"text-align: right;\">\n",
       "      <th></th>\n",
       "      <th>Store_ID</th>\n",
       "      <th>Day_of_week</th>\n",
       "      <th>Open</th>\n",
       "      <th>Promotion</th>\n",
       "      <th>School_holiday</th>\n",
       "      <th>Sales</th>\n",
       "      <th>Year</th>\n",
       "      <th>Month</th>\n",
       "      <th>Day</th>\n",
       "      <th>State_holiday_0</th>\n",
       "      <th>State_holiday_a</th>\n",
       "      <th>State_holiday_b</th>\n",
       "      <th>State_holiday_c</th>\n",
       "      <th>Nb_customers_on_day_norm</th>\n",
       "    </tr>\n",
       "  </thead>\n",
       "  <tbody>\n",
       "    <tr>\n",
       "      <th>0</th>\n",
       "      <td>625</td>\n",
       "      <td>3</td>\n",
       "      <td>1</td>\n",
       "      <td>1</td>\n",
       "      <td>0</td>\n",
       "      <td>7293</td>\n",
       "      <td>2013</td>\n",
       "      <td>11</td>\n",
       "      <td>06</td>\n",
       "      <td>1</td>\n",
       "      <td>0</td>\n",
       "      <td>0</td>\n",
       "      <td>0</td>\n",
       "      <td>0.117442</td>\n",
       "    </tr>\n",
       "    <tr>\n",
       "      <th>1</th>\n",
       "      <td>293</td>\n",
       "      <td>2</td>\n",
       "      <td>1</td>\n",
       "      <td>1</td>\n",
       "      <td>1</td>\n",
       "      <td>7060</td>\n",
       "      <td>2013</td>\n",
       "      <td>07</td>\n",
       "      <td>16</td>\n",
       "      <td>1</td>\n",
       "      <td>0</td>\n",
       "      <td>0</td>\n",
       "      <td>0</td>\n",
       "      <td>0.160682</td>\n",
       "    </tr>\n",
       "    <tr>\n",
       "      <th>2</th>\n",
       "      <td>39</td>\n",
       "      <td>4</td>\n",
       "      <td>1</td>\n",
       "      <td>1</td>\n",
       "      <td>0</td>\n",
       "      <td>4565</td>\n",
       "      <td>2014</td>\n",
       "      <td>01</td>\n",
       "      <td>23</td>\n",
       "      <td>1</td>\n",
       "      <td>0</td>\n",
       "      <td>0</td>\n",
       "      <td>0</td>\n",
       "      <td>0.102785</td>\n",
       "    </tr>\n",
       "    <tr>\n",
       "      <th>3</th>\n",
       "      <td>676</td>\n",
       "      <td>4</td>\n",
       "      <td>1</td>\n",
       "      <td>1</td>\n",
       "      <td>0</td>\n",
       "      <td>6380</td>\n",
       "      <td>2013</td>\n",
       "      <td>09</td>\n",
       "      <td>26</td>\n",
       "      <td>1</td>\n",
       "      <td>0</td>\n",
       "      <td>0</td>\n",
       "      <td>0</td>\n",
       "      <td>0.290216</td>\n",
       "    </tr>\n",
       "    <tr>\n",
       "      <th>4</th>\n",
       "      <td>709</td>\n",
       "      <td>3</td>\n",
       "      <td>1</td>\n",
       "      <td>1</td>\n",
       "      <td>0</td>\n",
       "      <td>11647</td>\n",
       "      <td>2014</td>\n",
       "      <td>01</td>\n",
       "      <td>22</td>\n",
       "      <td>1</td>\n",
       "      <td>0</td>\n",
       "      <td>0</td>\n",
       "      <td>0</td>\n",
       "      <td>0.270612</td>\n",
       "    </tr>\n",
       "  </tbody>\n",
       "</table>\n",
       "</div>"
      ],
      "text/plain": [
       "   Store_ID  Day_of_week  Open  Promotion  School_holiday  Sales  Year Month  \\\n",
       "0       625            3     1          1               0   7293  2013    11   \n",
       "1       293            2     1          1               1   7060  2013    07   \n",
       "2        39            4     1          1               0   4565  2014    01   \n",
       "3       676            4     1          1               0   6380  2013    09   \n",
       "4       709            3     1          1               0  11647  2014    01   \n",
       "\n",
       "  Day  State_holiday_0  State_holiday_a  State_holiday_b  State_holiday_c  \\\n",
       "0  06                1                0                0                0   \n",
       "1  16                1                0                0                0   \n",
       "2  23                1                0                0                0   \n",
       "3  26                1                0                0                0   \n",
       "4  22                1                0                0                0   \n",
       "\n",
       "   Nb_customers_on_day_norm  \n",
       "0                  0.117442  \n",
       "1                  0.160682  \n",
       "2                  0.102785  \n",
       "3                  0.290216  \n",
       "4                  0.270612  "
      ]
     },
     "execution_count": 9,
     "metadata": {},
     "output_type": "execute_result"
    }
   ],
   "source": [
    "# since the number of customer per day is a continuous variable, we'll normalize it and drop the original column\n",
    "normalizer = MinMaxScaler()\n",
    "\n",
    "sales[\"Nb_customers_on_day_norm\"] = normalizer.fit_transform(sales[[\"Nb_customers_on_day\"]])\n",
    "sales.drop([\"Nb_customers_on_day\"], axis=1, inplace = True)\n",
    "sales.head()"
   ]
  },
  {
   "cell_type": "code",
   "execution_count": 15,
   "id": "e4fa7e88-0747-4b81-8b39-6638df3b9801",
   "metadata": {},
   "outputs": [],
   "source": [
    "# ill try a little thing: drop the year, day, month column to understand if the model improves. there are some days of the month\n",
    "# where say might be higher but in the majority that doesnt occur, so probably it's better to drop it\n",
    "\n",
    "features = sales.drop(['Sales'], axis = 1)\n",
    "target = sales['Sales']\n",
    "\n",
    "x_train, x_test, y_train, y_test = train_test_split(features, target, random_state = 0)"
   ]
  },
  {
   "cell_type": "markdown",
   "id": "cf50c9d4",
   "metadata": {},
   "source": [
    "# Modelling and Testing Models"
   ]
  },
  {
   "cell_type": "code",
   "execution_count": 10,
   "id": "96870923-8827-4ee1-8640-4470c1c77dfb",
   "metadata": {},
   "outputs": [],
   "source": [
    "# ill try a little thing: drop the year, day, month column to understand if the model improves\n",
    "# if so, drop the three\n",
    "features = sales.drop(['Sales'], axis = 1)\n",
    "target = sales['Sales']\n",
    "\n",
    "x_train, x_test, y_train, y_test = train_test_split(features, target, random_state = 0)"
   ]
  },
  {
   "cell_type": "code",
   "execution_count": 11,
   "id": "43133044-8625-48b6-942e-4d457811166b",
   "metadata": {},
   "outputs": [],
   "source": [
    "## lets take a look at correlations to see if there any type of feature engineering we can do and refine our selection"
   ]
  },
  {
   "cell_type": "code",
   "execution_count": 13,
   "id": "59607157",
   "metadata": {},
   "outputs": [],
   "source": [
    "# month, year and day look that they year too correlated and may not help the prediction model, so, i'll drop it\n",
    "# and set a new test, test sets\n",
    "sales.drop(['Year', 'Day', 'Month'], axis = 1, inplace = True)\n",
    "\n",
    "features = sales.drop(['Sales'], axis = 1)\n",
    "target = sales['Sales']\n",
    "\n",
    "x_train, x_test, y_train, y_test = train_test_split(features, target, random_state = 0)"
   ]
  },
  {
   "cell_type": "code",
   "execution_count": 24,
   "id": "833df4d2",
   "metadata": {},
   "outputs": [
    {
     "name": "stdout",
     "output_type": "stream",
     "text": [
      "r**2:  0.9664848276622275\n"
     ]
    },
    {
     "data": {
      "application/javascript": [
       "\n",
       "        if (window._pyforest_update_imports_cell) { window._pyforest_update_imports_cell('import seaborn as sns\\nimport numpy as np'); }\n",
       "    "
      ],
      "text/plain": [
       "<IPython.core.display.Javascript object>"
      ]
     },
     "metadata": {},
     "output_type": "display_data"
    },
    {
     "name": "stdout",
     "output_type": "stream",
     "text": [
      "rmse:  705.585318881693\n"
     ]
    },
    {
     "data": {
      "text/plain": [
       "0.995078347757956"
      ]
     },
     "execution_count": 24,
     "metadata": {},
     "output_type": "execute_result"
    }
   ],
   "source": [
    "forest = RandomForestRegressor(n_estimators = 175,\n",
    "                               max_depth = 50,\n",
    "                               random_state = 1)\n",
    "\n",
    "forest.fit(x_train,y_train)\n",
    "\n",
    "print(\"r**2: \", forest.score(x_test,y_test))\n",
    "\n",
    "pred = forest.predict(x_test)\n",
    "print(\"rmse: \", np.sqrt(mean_squared_error(pred, y_test)))\n",
    "\n",
    "forest.score(x_train,y_train)"
   ]
  },
  {
   "cell_type": "code",
   "execution_count": 18,
   "id": "6cfa41c8-b260-42a3-9567-32b2498d77a1",
   "metadata": {},
   "outputs": [
    {
     "name": "stdout",
     "output_type": "stream",
     "text": [
      "r**2:  0.9289033613657375\n"
     ]
    },
    {
     "data": {
      "application/javascript": [
       "\n",
       "        if (window._pyforest_update_imports_cell) { window._pyforest_update_imports_cell('import seaborn as sns\\nimport numpy as np'); }\n",
       "    "
      ],
      "text/plain": [
       "<IPython.core.display.Javascript object>"
      ]
     },
     "metadata": {},
     "output_type": "display_data"
    },
    {
     "name": "stdout",
     "output_type": "stream",
     "text": [
      "rmse:  705.9158947336015\n"
     ]
    },
    {
     "data": {
      "text/plain": [
       "0.9316045065634283"
      ]
     },
     "execution_count": 18,
     "metadata": {},
     "output_type": "execute_result"
    }
   ],
   "source": [
    "## lets try with a new model\n",
    "\n",
    "xgbreg = xgboost.XGBRegressor()\n",
    "xgbreg.fit(x_train, y_train)\n",
    "\n",
    "print(\"r**2: \", xgbreg.score(x_test,y_test))\n",
    "print(\"rmse: \", np.sqrt(mean_squared_error(pred, y_test)))\n",
    "\n",
    "xgbreg.score(x_train,y_train)"
   ]
  },
  {
   "cell_type": "code",
   "execution_count": 19,
   "id": "40b6c464-b570-4590-9f35-9bdd84f1ae6b",
   "metadata": {},
   "outputs": [],
   "source": [
    "# even though there's more variance in the first, it's bias is lower given the score being higher in the test score\n",
    "# so, we decided for the forest"
   ]
  },
  {
   "cell_type": "markdown",
   "id": "cfbd5c87",
   "metadata": {},
   "source": [
    "# Hyperparameters & Fine Tuning"
   ]
  },
  {
   "cell_type": "code",
   "execution_count": 20,
   "id": "662879d7",
   "metadata": {},
   "outputs": [],
   "source": [
    "# lets find the hyperparameters for the selected model: random forest"
   ]
  },
  {
   "cell_type": "code",
   "execution_count": 22,
   "id": "9a6a006e",
   "metadata": {},
   "outputs": [
    {
     "data": {
      "text/html": [
       "<style>#sk-container-id-1 {color: black;background-color: white;}#sk-container-id-1 pre{padding: 0;}#sk-container-id-1 div.sk-toggleable {background-color: white;}#sk-container-id-1 label.sk-toggleable__label {cursor: pointer;display: block;width: 100%;margin-bottom: 0;padding: 0.3em;box-sizing: border-box;text-align: center;}#sk-container-id-1 label.sk-toggleable__label-arrow:before {content: \"▸\";float: left;margin-right: 0.25em;color: #696969;}#sk-container-id-1 label.sk-toggleable__label-arrow:hover:before {color: black;}#sk-container-id-1 div.sk-estimator:hover label.sk-toggleable__label-arrow:before {color: black;}#sk-container-id-1 div.sk-toggleable__content {max-height: 0;max-width: 0;overflow: hidden;text-align: left;background-color: #f0f8ff;}#sk-container-id-1 div.sk-toggleable__content pre {margin: 0.2em;color: black;border-radius: 0.25em;background-color: #f0f8ff;}#sk-container-id-1 input.sk-toggleable__control:checked~div.sk-toggleable__content {max-height: 200px;max-width: 100%;overflow: auto;}#sk-container-id-1 input.sk-toggleable__control:checked~label.sk-toggleable__label-arrow:before {content: \"▾\";}#sk-container-id-1 div.sk-estimator input.sk-toggleable__control:checked~label.sk-toggleable__label {background-color: #d4ebff;}#sk-container-id-1 div.sk-label input.sk-toggleable__control:checked~label.sk-toggleable__label {background-color: #d4ebff;}#sk-container-id-1 input.sk-hidden--visually {border: 0;clip: rect(1px 1px 1px 1px);clip: rect(1px, 1px, 1px, 1px);height: 1px;margin: -1px;overflow: hidden;padding: 0;position: absolute;width: 1px;}#sk-container-id-1 div.sk-estimator {font-family: monospace;background-color: #f0f8ff;border: 1px dotted black;border-radius: 0.25em;box-sizing: border-box;margin-bottom: 0.5em;}#sk-container-id-1 div.sk-estimator:hover {background-color: #d4ebff;}#sk-container-id-1 div.sk-parallel-item::after {content: \"\";width: 100%;border-bottom: 1px solid gray;flex-grow: 1;}#sk-container-id-1 div.sk-label:hover label.sk-toggleable__label {background-color: #d4ebff;}#sk-container-id-1 div.sk-serial::before {content: \"\";position: absolute;border-left: 1px solid gray;box-sizing: border-box;top: 0;bottom: 0;left: 50%;z-index: 0;}#sk-container-id-1 div.sk-serial {display: flex;flex-direction: column;align-items: center;background-color: white;padding-right: 0.2em;padding-left: 0.2em;position: relative;}#sk-container-id-1 div.sk-item {position: relative;z-index: 1;}#sk-container-id-1 div.sk-parallel {display: flex;align-items: stretch;justify-content: center;background-color: white;position: relative;}#sk-container-id-1 div.sk-item::before, #sk-container-id-1 div.sk-parallel-item::before {content: \"\";position: absolute;border-left: 1px solid gray;box-sizing: border-box;top: 0;bottom: 0;left: 50%;z-index: -1;}#sk-container-id-1 div.sk-parallel-item {display: flex;flex-direction: column;z-index: 1;position: relative;background-color: white;}#sk-container-id-1 div.sk-parallel-item:first-child::after {align-self: flex-end;width: 50%;}#sk-container-id-1 div.sk-parallel-item:last-child::after {align-self: flex-start;width: 50%;}#sk-container-id-1 div.sk-parallel-item:only-child::after {width: 0;}#sk-container-id-1 div.sk-dashed-wrapped {border: 1px dashed gray;margin: 0 0.4em 0.5em 0.4em;box-sizing: border-box;padding-bottom: 0.4em;background-color: white;}#sk-container-id-1 div.sk-label label {font-family: monospace;font-weight: bold;display: inline-block;line-height: 1.2em;}#sk-container-id-1 div.sk-label-container {text-align: center;}#sk-container-id-1 div.sk-container {/* jupyter's `normalize.less` sets `[hidden] { display: none; }` but bootstrap.min.css set `[hidden] { display: none !important; }` so we also need the `!important` here to be able to override the default hidden behavior on the sphinx rendered scikit-learn.org. See: https://github.com/scikit-learn/scikit-learn/issues/21755 */display: inline-block !important;position: relative;}#sk-container-id-1 div.sk-text-repr-fallback {display: none;}</style><div id=\"sk-container-id-1\" class=\"sk-top-container\"><div class=\"sk-text-repr-fallback\"><pre>GridSearchCV(cv=5,\n",
       "             estimator=RandomForestRegressor(max_depth=75, n_estimators=150,\n",
       "                                             random_state=1),\n",
       "             param_grid={&#x27;max_depth&#x27;: [50, 75, 100],\n",
       "                         &#x27;n_estimators&#x27;: [100, 130, 175]})</pre><b>In a Jupyter environment, please rerun this cell to show the HTML representation or trust the notebook. <br />On GitHub, the HTML representation is unable to render, please try loading this page with nbviewer.org.</b></div><div class=\"sk-container\" hidden><div class=\"sk-item sk-dashed-wrapped\"><div class=\"sk-label-container\"><div class=\"sk-label sk-toggleable\"><input class=\"sk-toggleable__control sk-hidden--visually\" id=\"sk-estimator-id-1\" type=\"checkbox\" ><label for=\"sk-estimator-id-1\" class=\"sk-toggleable__label sk-toggleable__label-arrow\">GridSearchCV</label><div class=\"sk-toggleable__content\"><pre>GridSearchCV(cv=5,\n",
       "             estimator=RandomForestRegressor(max_depth=75, n_estimators=150,\n",
       "                                             random_state=1),\n",
       "             param_grid={&#x27;max_depth&#x27;: [50, 75, 100],\n",
       "                         &#x27;n_estimators&#x27;: [100, 130, 175]})</pre></div></div></div><div class=\"sk-parallel\"><div class=\"sk-parallel-item\"><div class=\"sk-item\"><div class=\"sk-label-container\"><div class=\"sk-label sk-toggleable\"><input class=\"sk-toggleable__control sk-hidden--visually\" id=\"sk-estimator-id-2\" type=\"checkbox\" ><label for=\"sk-estimator-id-2\" class=\"sk-toggleable__label sk-toggleable__label-arrow\">estimator: RandomForestRegressor</label><div class=\"sk-toggleable__content\"><pre>RandomForestRegressor(max_depth=75, n_estimators=150, random_state=1)</pre></div></div></div><div class=\"sk-serial\"><div class=\"sk-item\"><div class=\"sk-estimator sk-toggleable\"><input class=\"sk-toggleable__control sk-hidden--visually\" id=\"sk-estimator-id-3\" type=\"checkbox\" ><label for=\"sk-estimator-id-3\" class=\"sk-toggleable__label sk-toggleable__label-arrow\">RandomForestRegressor</label><div class=\"sk-toggleable__content\"><pre>RandomForestRegressor(max_depth=75, n_estimators=150, random_state=1)</pre></div></div></div></div></div></div></div></div></div></div>"
      ],
      "text/plain": [
       "GridSearchCV(cv=5,\n",
       "             estimator=RandomForestRegressor(max_depth=75, n_estimators=150,\n",
       "                                             random_state=1),\n",
       "             param_grid={'max_depth': [50, 75, 100],\n",
       "                         'n_estimators': [100, 130, 175]})"
      ]
     },
     "execution_count": 22,
     "metadata": {},
     "output_type": "execute_result"
    }
   ],
   "source": [
    "from sklearn.model_selection import GridSearchCV\n",
    "\n",
    "grid = {'max_depth' : [50, 75, 100],\n",
    "       'n_estimators' : [100,130,175]}\n",
    "\n",
    "grid_search = GridSearchCV(estimator = forest, param_grid = grid, cv = 5)\n",
    "grid_search.fit(x_train, y_train)"
   ]
  },
  {
   "cell_type": "code",
   "execution_count": 23,
   "id": "31cc551c",
   "metadata": {
    "scrolled": true
   },
   "outputs": [
    {
     "data": {
      "text/plain": [
       "{'max_depth': 50, 'n_estimators': 175}"
      ]
     },
     "execution_count": 23,
     "metadata": {},
     "output_type": "execute_result"
    }
   ],
   "source": [
    "grid_search.best_params_"
   ]
  },
  {
   "cell_type": "markdown",
   "id": "83cb7445-58f4-48c3-97fb-d704737bda79",
   "metadata": {},
   "source": [
    "## Model Save"
   ]
  },
  {
   "cell_type": "code",
   "execution_count": 27,
   "id": "8518861c-de18-4b28-b1c9-fd0a87294e04",
   "metadata": {},
   "outputs": [
    {
     "data": {
      "application/javascript": [
       "\n",
       "        if (window._pyforest_update_imports_cell) { window._pyforest_update_imports_cell('import seaborn as sns\\nimport pickle\\nimport numpy as np'); }\n",
       "    "
      ],
      "text/plain": [
       "<IPython.core.display.Javascript object>"
      ]
     },
     "metadata": {},
     "output_type": "display_data"
    }
   ],
   "source": [
    "with open('salespred.pkl', 'wb') as file:\n",
    "    pickle.dump(forest, file)"
   ]
  },
  {
   "cell_type": "code",
   "execution_count": null,
   "id": "3b157c23-fd06-44f0-a068-be0ecf8d20e3",
   "metadata": {},
   "outputs": [],
   "source": []
  }
 ],
 "metadata": {
  "kernelspec": {
   "display_name": "Python 3 (ipykernel)",
   "language": "python",
   "name": "python3"
  },
  "language_info": {
   "codemirror_mode": {
    "name": "ipython",
    "version": 3
   },
   "file_extension": ".py",
   "mimetype": "text/x-python",
   "name": "python",
   "nbconvert_exporter": "python",
   "pygments_lexer": "ipython3",
   "version": "3.10.9"
  }
 },
 "nbformat": 4,
 "nbformat_minor": 5
}
